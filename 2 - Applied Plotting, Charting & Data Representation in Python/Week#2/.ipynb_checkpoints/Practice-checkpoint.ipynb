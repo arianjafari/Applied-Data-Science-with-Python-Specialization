{
 "cells": [
  {
   "cell_type": "code",
   "execution_count": 2,
   "metadata": {
    "collapsed": true
   },
   "outputs": [],
   "source": [
    "import matplotlib.pyplot as plt\n",
    "import numpy as np"
   ]
  },
  {
   "cell_type": "code",
   "execution_count": 19,
   "metadata": {
    "collapsed": true
   },
   "outputs": [],
   "source": [
    "plt.figure()\n",
    "\n",
    "languages =['Python', 'SQL', 'Java', 'C++', 'JavaScript']\n",
    "pos = np.arange(len(languages))\n",
    "popularity = [56, 39, 34, 34, 29]"
   ]
  },
  {
   "cell_type": "code",
   "execution_count": 34,
   "metadata": {},
   "outputs": [
    {
     "data": {
      "image/png": "[encoded data removed]",
      "text/plain": [
       "<matplotlib.figure.Figure at 0x225d3e41160>"
      ]
     },
     "metadata": {},
     "output_type": "display_data"
    }
   ],
   "source": [
    "bars = plt.bar(pos, popularity, align='center', color='lightslategrey')\n",
    "plt.xticks(pos, languages)\n",
    "plt.ylabel('% Popularity')\n",
    "plt.title('Top 5 Languages for Math & Data \\nby % popularity on Stack Overflow', alpha=0.8)\n",
    "\n",
    "plt.tick_params(\n",
    "    axis=\"both\",          # changes apply to the x-axis\n",
    "    which='both',      # both major and minor ticks are affected\n",
    "    bottom='off',      # ticks along the bottom edge are off\n",
    "    left = \"off\",\n",
    "    top='off',         # ticks along the top edge are off\n",
    "    labelbottom='on',\n",
    "    labelleft='off') # labels along the bottom edge are off\n",
    "#TODO: remove all the ticks (both axes), and tick labels on the Y axis\n",
    "for spine in plt.gca().spines.values():\n",
    "    spine.set_visible(False)\n",
    "bars[0].set_color(\"r\")\n",
    "for bar in bars:\n",
    "    plt.gca().text(bar.get_x() + bar.get_width()/2, bar.get_height() - 5, str(int(bar.get_height())) + '%', \n",
    "                 ha='center', color='k', fontsize=11)\n",
    "plt.show()"
   ]
  },
  {
   "cell_type": "code",
   "execution_count": null,
   "metadata": {
    "collapsed": true
   },
   "outputs": [],
   "source": []
  }
 ],
 "metadata": {
  "kernelspec": {
   "display_name": "Python 3",
   "language": "python",
   "name": "python3"
  },
  "language_info": {
   "codemirror_mode": {
    "name": "ipython",
    "version": 3
   },
   "file_extension": ".py",
   "mimetype": "text/x-python",
   "name": "python",
   "nbconvert_exporter": "python",
   "pygments_lexer": "ipython3",
   "version": "3.6.1"
  }
 },
 "nbformat": 4,
 "nbformat_minor": 2
}
