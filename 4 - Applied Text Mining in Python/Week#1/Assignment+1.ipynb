{
 "cells": [
  {
   "cell_type": "markdown",
   "metadata": {},
   "source": [
    "---\n",
    "\n",
    "_You are currently looking at **version 1.1** of this notebook. To download notebooks and datafiles, as well as get help on Jupyter notebooks in the Coursera platform, visit the [Jupyter Notebook FAQ](https://www.coursera.org/learn/python-text-mining/resources/d9pwm) course resource._\n",
    "\n",
    "---"
   ]
  },
  {
   "cell_type": "markdown",
   "metadata": {},
   "source": [
    "# Assignment 1\n",
    "\n",
    "In this assignment, you'll be working with messy medical data and using regex to extract relevant infromation from the data. \n",
    "\n",
    "Each line of the `dates.txt` file corresponds to a medical note. Each note has a date that needs to be extracted, but each date is encoded in one of many formats.\n",
    "\n",
    "The goal of this assignment is to correctly identify all of the different date variants encoded in this dataset and to properly normalize and sort the dates. \n",
    "\n",
    "Here is a list of some of the variants you might encounter in this dataset:\n",
    "* 04/20/2009; 04/20/09; 4/20/09; 4/3/09\n",
    "* Mar-20-2009; Mar 20, 2009; March 20, 2009;  Mar. 20, 2009; Mar 20 2009;\n",
    "* 20 Mar 2009; 20 March 2009; 20 Mar. 2009; 20 March, 2009\n",
    "* Mar 20th, 2009; Mar 21st, 2009; Mar 22nd, 2009\n",
    "* Feb 2009; Sep 2009; Oct 2010\n",
    "* 6/2008; 12/2009\n",
    "* 2009; 2010\n",
    "\n",
    "Once you have extracted these date patterns from the text, the next step is to sort them in ascending chronological order accoring to the following rules:\n",
    "* Assume all dates in xx/xx/xx format are mm/dd/yy\n",
    "* Assume all dates where year is encoded in only two digits are years from the 1900's (e.g. 1/5/89 is January 5th, 1989)\n",
    "* If the day is missing (e.g. 9/2009), assume it is the first day of the month (e.g. September 1, 2009).\n",
    "* If the month is missing (e.g. 2010), assume it is the first of January of that year (e.g. January 1, 2010).\n",
    "* Watch out for potential typos as this is a raw, real-life derived dataset.\n",
    "\n",
    "With these rules in mind, find the correct date in each note and return a pandas Series in chronological order of the original Series' indices.\n",
    "\n",
    "For example if the original series was this:\n",
    "\n",
    "    0    1999\n",
    "    1    2010\n",
    "    2    1978\n",
    "    3    2015\n",
    "    4    1985\n",
    "\n",
    "Your function should return this:\n",
    "\n",
    "    0    2\n",
    "    1    4\n",
    "    2    0\n",
    "    3    1\n",
    "    4    3\n",
    "\n",
    "Your score will be calculated using [Kendall's tau](https://en.wikipedia.org/wiki/Kendall_rank_correlation_coefficient), a correlation measure for ordinal data.\n",
    "\n",
    "*This function should return a Series of length 500 and dtype int.*"
   ]
  },
  {
   "cell_type": "code",
   "execution_count": 1,
   "metadata": {},
   "outputs": [
    {
     "data": {
      "text/plain": [
       "0         03/25/93 Total time of visit (in minutes):\\n\n",
       "1                       6/18/85 Primary Care Doctor:\\n\n",
       "2    sshe plans to move as of 7/8/71 In-Home Servic...\n",
       "3                7 on 9/27/75 Audit C Score Current:\\n\n",
       "4    2/6/96 sleep studyPain Treatment Pain Level (N...\n",
       "5                    .Per 7/06/79 Movement D/O note:\\n\n",
       "6    4, 5/18/78 Patient's thoughts about current su...\n",
       "7    10/24/89 CPT Code: 90801 - Psychiatric Diagnos...\n",
       "8                         3/7/86 SOS-10 Total Score:\\n\n",
       "9             (4/10/71)Score-1Audit C Score Current:\\n\n",
       "dtype: object"
      ]
     },
     "execution_count": 1,
     "metadata": {},
     "output_type": "execute_result"
    }
   ],
   "source": [
    "import pandas as pd\n",
    "import re\n",
    "\n",
    "doc = []\n",
    "with open('dates.txt') as file:\n",
    "    for line in file:\n",
    "        doc.append(line)\n",
    "\n",
    "df = pd.Series(doc)\n",
    "df.head(10)"
   ]
  },
  {
   "cell_type": "code",
   "execution_count": 2,
   "metadata": {},
   "outputs": [
    {
     "data": {
      "text/plain": [
       "490                                  Lab: B12 969 2007\\n\n",
       "491                                   )and 8mo in 2009\\n\n",
       "492    .Moved to USA in 1986. Suffered from malnutrit...\n",
       "493                                              r1978\\n\n",
       "494    . Went to Emerson, in Newfane Alaska. Started ...\n",
       "495    1979 Family Psych History: Family History of S...\n",
       "496    therapist and friend died in ~2006 Parental/Ca...\n",
       "497                         2008 partial thyroidectomy\\n\n",
       "498    sPt describes a history of sexual abuse as a c...\n",
       "499    . In 1980, patient was living in Naples and de...\n",
       "dtype: object"
      ]
     },
     "execution_count": 2,
     "metadata": {},
     "output_type": "execute_result"
    }
   ],
   "source": [
    "df.tail(10)"
   ]
  },
  {
   "cell_type": "code",
   "execution_count": 145,
   "metadata": {},
   "outputs": [],
   "source": [
    "from datetime import datetime\n",
    "month_dic = {\"Jan\" : \"01\", \"Feb\" : \"02\", \"Apr\" : \"03\", \"Mar\" : \"04\", \"May\" : \"05\", \"Jun\" : \"06\", \"Jul\" : \"07\", \"Aug\" : \"08\", \"Sep\" : \"09\", \"Oct\" : \"10\", \"Nov\" : \"11\", \"Dec\" : \"12\"}\n",
    "def date_sorter():\n",
    "    res = []\n",
    "    index_set = set([])\n",
    "    for idx,  row in df.iteritems():\n",
    "        \n",
    "        date = re.findall(r\"\\d{1,2}[/-]\\d{1,2}[/-]\\d{2,4}\", row)\n",
    "        \n",
    "        if len(date) != 0:\n",
    "            if idx not in index_set:\n",
    "                if date[0][-3].isdigit():\n",
    "                    date[0]=date[0].replace(\"/\", \"-\")\n",
    "                    res.append((idx,date[0]))\n",
    "                    index_set.add(idx)\n",
    "                else:\n",
    "                    date[0]=date[0].replace(\"/\", \"-\")\n",
    "                    res.append((idx,date[0][:-2] + \"19\" + date[0][-2:]))\n",
    "                    index_set.add(idx)\n",
    "            \n",
    "        #date = re.findall(r\"\\d{1,2}[/-]\\d{1,2}[/-]\\d{2}\", row)\n",
    "        #if len(date) != 0:\n",
    "            #res.append((idx,date[0][:-2] + \"19\" + date[0][-2:]))\n",
    "            \n",
    "        date = re.findall(r\"(?:\\d{1,2}[ -])?(?:Jan|Feb|Mar|Apr|May|Jun|Jul|Aug|Sep|Oct|Nov|Dec)[a-z.,]*[ ,-](?:\\d{1,2}[thstnd,]*[ -])?\\d{2,4}\", row)    \n",
    "        if len(date) != 0:\n",
    "            date[0]=date[0].replace(\",\", \"\")\n",
    "            list1 = re.split(\" \", date[0][:-4].strip())\n",
    "            \n",
    "            list1.sort()\n",
    "            \n",
    "            if len(list1) == 2:\n",
    "                \n",
    "                res.append((idx,month_dic[list1[1][0:3]] + \"-\" + list1[0] + \"-\" + date[0][-4:]))\n",
    "                index_set.add(idx)\n",
    "            else:\n",
    "                res.append((idx, month_dic[list1[0][0:3]] + \"-01-\" + date[0][-4:]))\n",
    "                index_set.add(idx)\n",
    "        \n",
    "        date = re.findall(r\"\\d{1,2}[/-]\\d{4}\", row)    \n",
    "        if len(date) != 0:\n",
    "            if idx not in index_set:\n",
    "                list2 = re.split(\"/\", date[0].strip())\n",
    "                res.append((idx,list2[0] + \"-01-\" +list2[1]))\n",
    "                index_set.add(idx)\n",
    "        date = re.findall(r\"\\d{4}\", row)    \n",
    "        if len(date) != 0:\n",
    "            if idx not in index_set:\n",
    "                res.append((idx,\"01-01-\" + date[0][-4:]))\n",
    "                index_set.add(idx)\n",
    "        #print(res)\n",
    "        #break\n",
    "        res_new = []\n",
    "        for item in res:\n",
    "            #print(item[0])\n",
    "            res_new.append((item[0], datetime.strptime(item[1], '%m-%d-%Y')))\n",
    "         \n",
    "        res_new.sort(key = lambda x : x[1])\n",
    "        \n",
    "        result = []\n",
    "        for item in res_new:\n",
    "            result.append(item[0])\n",
    "    \n",
    "    return pd.Series(result)\n",
    "#date_sorter()"
   ]
  }
 ],
 "metadata": {
  "coursera": {
   "course_slug": "python-text-mining",
   "graded_item_id": "LvcWI",
   "launcher_item_id": "krne9",
   "part_id": "Mkp1I"
  },
  "kernelspec": {
   "display_name": "Python 3",
   "language": "python",
   "name": "python3"
  },
  "language_info": {
   "codemirror_mode": {
    "name": "ipython",
    "version": 3
   },
   "file_extension": ".py",
   "mimetype": "text/x-python",
   "name": "python",
   "nbconvert_exporter": "python",
   "pygments_lexer": "ipython3",
   "version": "3.6.0"
  }
 },
 "nbformat": 4,
 "nbformat_minor": 2
}
